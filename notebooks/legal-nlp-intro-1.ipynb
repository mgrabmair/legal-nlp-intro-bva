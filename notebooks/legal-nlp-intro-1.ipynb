{
 "cells": [
  {
   "cell_type": "markdown",
   "metadata": {},
   "source": [
    "## Import Dependencies"
   ]
  },
  {
   "cell_type": "code",
   "execution_count": 1,
   "metadata": {
    "collapsed": false,
    "deletable": true,
    "editable": true
   },
   "outputs": [],
   "source": [
    "import json\n",
    "from pprint import pprint\n",
    "import random\n",
    "import re\n",
    "from sklearn import tree\n",
    "from sklearn.metrics import classification_report\n",
    "from sklearn.model_selection import train_test_split\n",
    "import graphviz"
   ]
  },
  {
   "cell_type": "markdown",
   "metadata": {
    "deletable": true,
    "editable": true
   },
   "source": [
    "## Loading Data"
   ]
  },
  {
   "cell_type": "code",
   "execution_count": 3,
   "metadata": {
    "collapsed": true,
    "deletable": true,
    "editable": true
   },
   "outputs": [],
   "source": [
    "data_path = '../data/20171208_luima.json'"
   ]
  },
  {
   "cell_type": "code",
   "execution_count": 4,
   "metadata": {
    "collapsed": true,
    "deletable": true,
    "editable": true
   },
   "outputs": [],
   "source": [
    "data = json.load(open(data_path))"
   ]
  },
  {
   "cell_type": "code",
   "execution_count": 5,
   "metadata": {
    "collapsed": false,
    "deletable": true,
    "editable": true
   },
   "outputs": [
    {
     "data": {
      "text/plain": [
       "dict"
      ]
     },
     "execution_count": 5,
     "metadata": {},
     "output_type": "execute_result"
    }
   ],
   "source": [
    "type(data)"
   ]
  },
  {
   "cell_type": "code",
   "execution_count": 6,
   "metadata": {
    "collapsed": false,
    "deletable": true,
    "editable": true
   },
   "outputs": [
    {
     "data": {
      "text/plain": [
       "dict_keys(['documents', 'types', 'annotations', 'objects'])"
      ]
     },
     "execution_count": 6,
     "metadata": {},
     "output_type": "execute_result"
    }
   ],
   "source": [
    "data.keys()"
   ]
  },
  {
   "cell_type": "code",
   "execution_count": 7,
   "metadata": {
    "collapsed": false,
    "deletable": true,
    "editable": true
   },
   "outputs": [
    {
     "data": {
      "text/plain": [
       "dict_keys(['_id', 'name', 'plainText'])"
      ]
     },
     "execution_count": 7,
     "metadata": {},
     "output_type": "execute_result"
    }
   ],
   "source": [
    "data['documents'][0].keys()"
   ]
  },
  {
   "cell_type": "code",
   "execution_count": 8,
   "metadata": {
    "collapsed": false,
    "deletable": true,
    "editable": true
   },
   "outputs": [
    {
     "data": {
      "text/plain": [
       "{'_id': '5a0dc3747a75cf2bafc0db8d',\n",
       " 'attributes': [],\n",
       " 'document': '59d3ed9544a09d7f8e4763d9',\n",
       " 'end': 211,\n",
       " 'owner': '58a0bf4f8424bd4f65e2be57',\n",
       " 'start': 202,\n",
       " 'type': '5a0ca67d7a75cf2bafc0d50d'}"
      ]
     },
     "execution_count": 8,
     "metadata": {},
     "output_type": "execute_result"
    }
   ],
   "source": [
    "data['annotations'][0]"
   ]
  },
  {
   "cell_type": "code",
   "execution_count": 9,
   "metadata": {
    "collapsed": false,
    "deletable": true,
    "editable": true
   },
   "outputs": [
    {
     "data": {
      "text/plain": [
       "{'_id': '59d3ec8e44a09d7f8e4763c5',\n",
       " 'attributes': [],\n",
       " 'isA': '58781cf945f90f3bfc5cba7d',\n",
       " 'name': 'Citation'}"
      ]
     },
     "execution_count": 9,
     "metadata": {},
     "output_type": "execute_result"
    }
   ],
   "source": [
    "data['types'][0]"
   ]
  },
  {
   "cell_type": "code",
   "execution_count": 10,
   "metadata": {
    "collapsed": false,
    "deletable": true,
    "editable": true
   },
   "outputs": [],
   "source": [
    "# move data into id-keyed dictionary\n",
    "documents = {d['_id']: d for d in data['documents']}\n",
    "types = {t['_id']: t for t in data['types']}\n",
    "# move annotations into list\n",
    "annotations = data['annotations']"
   ]
  },
  {
   "cell_type": "markdown",
   "metadata": {},
   "source": [
    "## Structuring Data by Sentence"
   ]
  },
  {
   "cell_type": "code",
   "execution_count": 11,
   "metadata": {
    "collapsed": false,
    "deletable": true,
    "editable": true
   },
   "outputs": [],
   "source": [
    "# get all sentences assuming every annotation is a sentence\n",
    "def make_sentence_data(documents, types, annotations):\n",
    "    sentence_data = []\n",
    "    for a in annotations:\n",
    "        start = a['start']\n",
    "        end = a['end']\n",
    "        document_txt = documents[a['document']]['plainText']\n",
    "        atype = a['type']\n",
    "        sentence_txt = document_txt[start:end]\n",
    "        sd = {'txt': sentence_txt,\n",
    "              'type': types[atype]['name']}\n",
    "        sentence_data.append(sd)\n",
    "    return sentence_data"
   ]
  },
  {
   "cell_type": "code",
   "execution_count": 12,
   "metadata": {
    "collapsed": false,
    "deletable": true,
    "editable": true
   },
   "outputs": [],
   "source": [
    "sentence_data = make_sentence_data(documents, types, annotations)"
   ]
  },
  {
   "cell_type": "code",
   "execution_count": 13,
   "metadata": {
    "collapsed": false,
    "deletable": true,
    "editable": true
   },
   "outputs": [
    {
     "name": "stdout",
     "output_type": "stream",
     "text": [
      "{'txt': 'However, the clinical evidence of record fails to show that the Veteran manifested arthritis to a degree of 10 percent within the one year following his active duty service discharge in August 1962.', 'type': 'EvidenceBasedReasoning'}\n",
      "{'txt': \"The examiner did not have any of the Veteran's medical records and offered no opinion as to a medical nexus between the veteran's current left knee disability and his in-service injury.\", 'type': 'Evidence'}\n",
      "{'txt': 'Hence, the Veteran is not shown to be prejudiced by the timing of this notice.', 'type': 'EvidenceBasedReasoning'}\n"
     ]
    }
   ],
   "source": [
    "# look at examples\n",
    "for _ in range(3):\n",
    "    print(random.choice(sentence_data))"
   ]
  },
  {
   "cell_type": "code",
   "execution_count": 14,
   "metadata": {
    "collapsed": false,
    "deletable": true,
    "editable": true
   },
   "outputs": [
    {
     "data": {
      "text/plain": [
       "805"
      ]
     },
     "execution_count": 14,
     "metadata": {},
     "output_type": "execute_result"
    }
   ],
   "source": [
    "len(sentence_data)"
   ]
  },
  {
   "cell_type": "markdown",
   "metadata": {
    "deletable": true,
    "editable": true
   },
   "source": [
    "# Tokenizing text into individual words"
   ]
  },
  {
   "cell_type": "code",
   "execution_count": 15,
   "metadata": {
    "collapsed": true,
    "deletable": true,
    "editable": true
   },
   "outputs": [],
   "source": [
    "def tokenize(txt):\n",
    "    \n",
    "    # split sentences on one or more whitespace characters\n",
    "    dirty_tokens = re.split(' +', txt)\n",
    "    \n",
    "    # remove all non-alphanumeric characters and lowercase everything\n",
    "    clean_tokens = []\n",
    "    for t in dirty_tokens:\n",
    "        clean_tokens.append(re.sub(r'\\W', '', t).lower())\n",
    "    \n",
    "    # remove empty tokens\n",
    "    if '' in clean_tokens:\n",
    "        clean_tokens.remove('')\n",
    "    \n",
    "    return clean_tokens"
   ]
  },
  {
   "cell_type": "code",
   "execution_count": 16,
   "metadata": {
    "collapsed": false,
    "deletable": true,
    "editable": true
   },
   "outputs": [],
   "source": [
    "# demo/test the tokenizer\n",
    "#tokenize(\"Rather, the report of the Veteran's February 2006 VA examination stated that Veteran did not meet the criteria for PTSD.\")"
   ]
  },
  {
   "cell_type": "code",
   "execution_count": 17,
   "metadata": {
    "collapsed": true,
    "deletable": true,
    "editable": true
   },
   "outputs": [],
   "source": [
    "def tokenize_sentence_data(sentence_data):\n",
    "    for s in sentence_data:\n",
    "        s['tokens'] = tokenize(s['txt'])"
   ]
  },
  {
   "cell_type": "code",
   "execution_count": 18,
   "metadata": {
    "collapsed": false,
    "deletable": true,
    "editable": true
   },
   "outputs": [],
   "source": [
    "tokenize_sentence_data(sentence_data)"
   ]
  },
  {
   "cell_type": "code",
   "execution_count": 19,
   "metadata": {
    "collapsed": false,
    "deletable": true,
    "editable": true
   },
   "outputs": [
    {
     "data": {
      "text/plain": [
       "{'tokens': ['the',\n",
       "  'board',\n",
       "  'has',\n",
       "  'first',\n",
       "  'considered',\n",
       "  'whether',\n",
       "  'service',\n",
       "  'connection',\n",
       "  'is',\n",
       "  'warranted',\n",
       "  'on',\n",
       "  'a',\n",
       "  'presumptive',\n",
       "  'basis'],\n",
       " 'txt': 'The Board has first considered whether service connection is warranted on a presumptive basis.',\n",
       " 'type': 'EvidenceBasedReasoning'}"
      ]
     },
     "execution_count": 19,
     "metadata": {},
     "output_type": "execute_result"
    }
   ],
   "source": [
    "# check post-tokenization\n",
    "random.choice(sentence_data)"
   ]
  },
  {
   "cell_type": "markdown",
   "metadata": {
    "deletable": true,
    "editable": true
   },
   "source": [
    "# Building a vocabulary list"
   ]
  },
  {
   "cell_type": "code",
   "execution_count": 20,
   "metadata": {
    "collapsed": false,
    "deletable": true,
    "editable": true
   },
   "outputs": [],
   "source": [
    "def build_vocabulary(sentences_data):\n",
    "    vocabulary = set()\n",
    "    for sd in sentences_data:\n",
    "        vocabulary = vocabulary | set(tokenize(sd['txt']))\n",
    "    return sorted(list(vocabulary))"
   ]
  },
  {
   "cell_type": "code",
   "execution_count": 21,
   "metadata": {
    "collapsed": false,
    "deletable": true,
    "editable": true
   },
   "outputs": [],
   "source": [
    "vocabulary = build_vocabulary(sentence_data)"
   ]
  },
  {
   "cell_type": "code",
   "execution_count": 22,
   "metadata": {
    "collapsed": false,
    "deletable": true,
    "editable": true
   },
   "outputs": [],
   "source": [
    "# look at vocabulary\n",
    "# vocabulary"
   ]
  },
  {
   "cell_type": "code",
   "execution_count": 23,
   "metadata": {
    "collapsed": false,
    "deletable": true,
    "editable": true
   },
   "outputs": [
    {
     "data": {
      "text/plain": [
       "2020"
      ]
     },
     "execution_count": 23,
     "metadata": {},
     "output_type": "execute_result"
    }
   ],
   "source": [
    "# test word\n",
    "vocabulary.index('veteran')"
   ]
  },
  {
   "cell_type": "code",
   "execution_count": 24,
   "metadata": {
    "collapsed": false,
    "deletable": true,
    "editable": true
   },
   "outputs": [
    {
     "data": {
      "text/plain": [
       "2092"
      ]
     },
     "execution_count": 24,
     "metadata": {},
     "output_type": "execute_result"
    }
   ],
   "source": [
    "# vocabulary size\n",
    "len(vocabulary)"
   ]
  },
  {
   "cell_type": "markdown",
   "metadata": {
    "deletable": true,
    "editable": true
   },
   "source": [
    "# Featurizing text"
   ]
  },
  {
   "cell_type": "code",
   "execution_count": 122,
   "metadata": {
    "collapsed": false,
    "deletable": true,
    "editable": true
   },
   "outputs": [],
   "source": [
    "def featurize_sentence(s, vocabulary):\n",
    "    features = []\n",
    "    \n",
    "    # binary features\n",
    "    for v in vocabulary:\n",
    "        if v in s['tokens']:\n",
    "            features.append(1)\n",
    "        else:\n",
    "            features.append(0)\n",
    "    \n",
    "    featurized = {'txt': s['txt'],\n",
    "                  'features': features,\n",
    "                  'target': s['type']}\n",
    "    return featurized\n",
    "    \n",
    "def featurize_sentence_data(sentence_data, vocabulary):\n",
    "    return list(map(lambda s: featurize_sentence(s, vocabulary), sentence_data))"
   ]
  },
  {
   "cell_type": "code",
   "execution_count": 121,
   "metadata": {
    "collapsed": true
   },
   "outputs": [],
   "source": [
    "feature_names = vocabulary"
   ]
  },
  {
   "cell_type": "code",
   "execution_count": 105,
   "metadata": {
    "collapsed": false,
    "deletable": true,
    "editable": true
   },
   "outputs": [],
   "source": [
    "sentence_data_featurized = featurize_sentence_data(sentence_data, vocabulary)"
   ]
  },
  {
   "cell_type": "code",
   "execution_count": 106,
   "metadata": {
    "collapsed": false,
    "deletable": true,
    "editable": true
   },
   "outputs": [],
   "source": [
    "#random.choice(sentence_data_featurized)"
   ]
  },
  {
   "cell_type": "markdown",
   "metadata": {
    "deletable": true,
    "editable": true
   },
   "source": [
    "# Splitting our dataset"
   ]
  },
  {
   "cell_type": "code",
   "execution_count": 107,
   "metadata": {
    "collapsed": true,
    "deletable": true,
    "editable": true
   },
   "outputs": [],
   "source": [
    "X = [fs['features'] for fs in sentence_data_featurized]\n",
    "y = [fs['target'] for fs in sentence_data_featurized]"
   ]
  },
  {
   "cell_type": "code",
   "execution_count": 108,
   "metadata": {
    "collapsed": false,
    "deletable": true,
    "editable": true
   },
   "outputs": [],
   "source": [
    "X_train, X_test, y_train, y_test = train_test_split(X, y, test_size=0.20, random_state=12345)"
   ]
  },
  {
   "cell_type": "markdown",
   "metadata": {
    "deletable": true,
    "editable": true
   },
   "source": [
    "# Training a decision tree classifier"
   ]
  },
  {
   "cell_type": "code",
   "execution_count": 109,
   "metadata": {
    "collapsed": false,
    "deletable": true,
    "editable": true
   },
   "outputs": [],
   "source": [
    "dtc = tree.DecisionTreeClassifier(max_depth=12)\n",
    "clf = dtc.fit(X_train, y_train)"
   ]
  },
  {
   "cell_type": "code",
   "execution_count": 110,
   "metadata": {
    "collapsed": false,
    "deletable": true,
    "editable": true
   },
   "outputs": [
    {
     "data": {
      "text/plain": [
       "array(['Citation', 'ConclusionOfLaw', 'Evidence', 'EvidenceBasedFinding',\n",
       "       'EvidenceBasedReasoning', 'Header', 'LegalPolicy', 'LegalRule',\n",
       "       'Procedure'],\n",
       "      dtype='<U22')"
      ]
     },
     "execution_count": 110,
     "metadata": {},
     "output_type": "execute_result"
    }
   ],
   "source": [
    "clf.classes_"
   ]
  },
  {
   "cell_type": "markdown",
   "metadata": {
    "deletable": true,
    "editable": true
   },
   "source": [
    "## Output Decision Tree"
   ]
  },
  {
   "cell_type": "code",
   "execution_count": 111,
   "metadata": {
    "collapsed": false,
    "deletable": true,
    "editable": true
   },
   "outputs": [
    {
     "data": {
      "text/plain": [
       "'bva-single.pdf'"
      ]
     },
     "execution_count": 111,
     "metadata": {},
     "output_type": "execute_result"
    }
   ],
   "source": [
    "dot_data = tree.export_graphviz(clf,\n",
    "                                out_file=None,\n",
    "                                feature_names=feature_names,\n",
    "                                class_names=clf.classes_,\n",
    "                                rounded=True, \n",
    "                                filled=True)\n",
    "graph = graphviz.Source(dot_data)\n",
    "graph.render(\"bva-single\")\n",
    "#graph"
   ]
  },
  {
   "cell_type": "markdown",
   "metadata": {},
   "source": [
    "## Summarize Results"
   ]
  },
  {
   "cell_type": "code",
   "execution_count": 112,
   "metadata": {
    "collapsed": false,
    "deletable": true,
    "editable": true
   },
   "outputs": [
    {
     "name": "stdout",
     "output_type": "stream",
     "text": [
      "                        precision    recall  f1-score   support\n",
      "\n",
      "              Citation       1.00      0.99      0.99        97\n",
      "       ConclusionOfLaw       0.79      0.61      0.69        18\n",
      "              Evidence       0.84      0.93      0.88       179\n",
      "  EvidenceBasedFinding       0.82      0.80      0.81        56\n",
      "EvidenceBasedReasoning       0.78      0.71      0.74        82\n",
      "                Header       1.00      0.83      0.91        54\n",
      "           LegalPolicy       1.00      0.50      0.67        12\n",
      "             LegalRule       0.92      0.90      0.91        78\n",
      "             Procedure       0.75      0.88      0.81        68\n",
      "\n",
      "           avg / total       0.87      0.86      0.86       644\n",
      "\n"
     ]
    }
   ],
   "source": [
    "print(classification_report(y_train, clf.predict(X_train)))"
   ]
  },
  {
   "cell_type": "code",
   "execution_count": 113,
   "metadata": {
    "collapsed": false,
    "deletable": true,
    "editable": true
   },
   "outputs": [
    {
     "name": "stdout",
     "output_type": "stream",
     "text": [
      "                        precision    recall  f1-score   support\n",
      "\n",
      "              Citation       1.00      0.94      0.97        31\n",
      "       ConclusionOfLaw       0.00      0.00      0.00         3\n",
      "              Evidence       0.66      0.82      0.73        38\n",
      "  EvidenceBasedFinding       0.50      0.27      0.35        11\n",
      "EvidenceBasedReasoning       0.64      0.29      0.40        24\n",
      "                Header       0.77      0.77      0.77        13\n",
      "           LegalPolicy       1.00      0.20      0.33         5\n",
      "             LegalRule       0.50      0.74      0.60        19\n",
      "             Procedure       0.61      0.65      0.63        17\n",
      "\n",
      "           avg / total       0.69      0.66      0.65       161\n",
      "\n"
     ]
    }
   ],
   "source": [
    "print(classification_report(y_test, clf.predict(X_test)))"
   ]
  },
  {
   "cell_type": "markdown",
   "metadata": {
    "collapsed": true,
    "deletable": true,
    "editable": true
   },
   "source": [
    "## Test Functions"
   ]
  },
  {
   "cell_type": "code",
   "execution_count": 38,
   "metadata": {
    "collapsed": false,
    "deletable": true,
    "editable": true
   },
   "outputs": [],
   "source": [
    "def predict_sentence(txt, vocabulary, clf):\n",
    "    s = {'txt': txt,\n",
    "         'tokens': tokenize(txt),\n",
    "         'type': 'unknown'}\n",
    "    x = featurize_sentence(s, vocabulary)\n",
    "    label = clf.predict([x['features']])\n",
    "    return label"
   ]
  },
  {
   "cell_type": "code",
   "execution_count": 116,
   "metadata": {
    "collapsed": false
   },
   "outputs": [],
   "source": [
    "def false_predictions(sentence_data_featurized):\n",
    "    for s in sentence_data_featurized:\n",
    "        prediction = predict_sentence(s['txt'], vocabulary, clf)[0]\n",
    "        true_label = s['target']\n",
    "        if not prediction == true_label:\n",
    "            print(s['txt'])\n",
    "            print('true: ' + str(true_label) + '; predicted: ' + str(prediction))\n",
    "            print()"
   ]
  },
  {
   "cell_type": "markdown",
   "metadata": {},
   "source": [
    "## Error Analysis"
   ]
  },
  {
   "cell_type": "code",
   "execution_count": 120,
   "metadata": {
    "collapsed": false
   },
   "outputs": [
    {
     "data": {
      "text/plain": [
       "array(['ConclusionOfLaw'],\n",
       "      dtype='<U22')"
      ]
     },
     "execution_count": 120,
     "metadata": {},
     "output_type": "execute_result"
    }
   ],
   "source": [
    "predict_sentence(\"The requirements for service connection have been met.\", vocabulary, clf)"
   ]
  },
  {
   "cell_type": "code",
   "execution_count": 117,
   "metadata": {
    "collapsed": false
   },
   "outputs": [
    {
     "name": "stdout",
     "output_type": "stream",
     "text": [
      "DATE\n",
      "true: Header; predicted: Procedure\n",
      "\n",
      "REMAND\n",
      "true: Header; predicted: Procedure\n",
      "\n",
      "The Appellant\n",
      "true: Procedure; predicted: Evidence\n",
      "\n",
      "The veteran, who had active service from January \n",
      "1951 to February 1955, appealed that decision to the BVA and \n",
      "the case was forwarded to the Board for appellate review.\n",
      "true: Procedure; predicted: EvidenceBasedReasoning\n",
      "\n",
      "The veteran's claim for service connection for residuals of a \n",
      "left eye injury loss is well grounded.\n",
      "true: ConclusionOfLaw; predicted: EvidenceBasedFinding\n",
      "\n",
      "In this regard, the veteran has \n",
      "\"the burden of submitting evidence sufficient to justify a \n",
      "belief by a fair and impartial individual that the claim is \n",
      "well grounded.\"\n",
      "true: LegalRule; predicted: EvidenceBasedReasoning\n",
      "\n",
      "In determining whether a claim is well grounded, the \n",
      "truthfulness of the evidence is presumed.\n",
      "true: LegalRule; predicted: EvidenceBasedFinding\n",
      "\n",
      "In particular, there is \n",
      "a record dated in August 1998 in which the veteran relates a \n",
      "history of an injury to his left eye in 1954, during service.\n",
      "true: Evidence; predicted: LegalRule\n",
      "\n",
      "That record also contains a notation that \n",
      "the decreased visual acuity is likely secondary to old \n",
      "trauma.\n",
      "true: Evidence; predicted: LegalRule\n",
      "\n",
      "This duty to assist \n",
      "includes affording the veteran a through examination which \n",
      "takes into account all of the pertinent evidence of record.\n",
      "true: LegalRule; predicted: EvidenceBasedReasoning\n",
      "\n",
      "In this regard the Board would note that the veteran has not \n",
      "been afforded an examination in connection with his claim.\n",
      "true: EvidenceBasedFinding; predicted: EvidenceBasedReasoning\n",
      "\n",
      "As such, it does not appear that the examiner \n",
      "who provided the opinion that the veteran's decreased visual \n",
      "acuity was likely due to old trauma review the veteran's \n",
      "December 1954 separation physical examination which reports \n",
      "that the veteran's distant vision was describe as  \"20/20.\"\n",
      "true: EvidenceBasedReasoning; predicted: Evidence\n",
      "\n",
      "In addition, a VA treatment record dated in November 1998 \n",
      "creates some question as to whether the veteran's decreased \n",
      "visual acuity of his left eye is due to the injury he reports \n",
      "he sustained during service.\n",
      "true: Evidence; predicted: LegalRule\n",
      "\n",
      "Therefore, in order to give the veteran every consideration \n",
      "with respect to the present appeal, it is the Board's opinion \n",
      "that further development of the case is necessary.\n",
      "true: EvidenceBasedFinding; predicted: LegalRule\n",
      "\n",
      "The claim for service connection for residuals of a left eye \n",
      "injury loss is well grounded, and to this extent, the appeal \n",
      "is granted, subject to the development requested below.\n",
      "true: ConclusionOfLaw; predicted: EvidenceBasedReasoning\n",
      "\n",
      "The veteran is free to submit any additional \n",
      "evidence and/or argument he desires to have considered in \n",
      "connection with his current appeal.\n",
      "true: ConclusionOfLaw; predicted: EvidenceBasedReasoning\n",
      "\n",
      "No action is required of \n",
      "the veteran until he is notified.\n",
      "true: ConclusionOfLaw; predicted: EvidenceBasedFinding\n",
      "\n",
      "If the benefit sought is not granted, \n",
      "the veteran and his representative should be furnished a \n",
      "Supplemental Statement of the Case, and be afforded a \n",
      "reasonable opportunity to respond before the record is \n",
      "returned to the Board for further review.\n",
      "true: ConclusionOfLaw; predicted: LegalRule\n",
      "\n",
      "Any and all indicated \n",
      "evaluations, studies, and tests deemed \n",
      "necessary by the examiner should be \n",
      "accomplished.\n",
      "true: EvidenceBasedReasoning; predicted: LegalRule\n",
      "\n",
      "DATE\n",
      "true: Header; predicted: Procedure\n",
      "\n",
      "A. Veterans Claims Assistance Act of 2000 (VCAA)\n",
      "true: Header; predicted: Procedure\n",
      "\n",
      "C.  Conclusion\n",
      "true: Header; predicted: Procedure\n",
      "\n",
      "The appellant is the Veteran's \n",
      "surviving spouse.\n",
      "true: Procedure; predicted: EvidenceBasedFinding\n",
      "\n",
      "A claim for connection for Crohn's disease was pending at \n",
      "the time of the Veteran's death.  The appellant submitted a \n",
      "timely claim for accrued benefits.\n",
      "true: EvidenceBasedFinding; predicted: Evidence\n",
      "\n",
      "Resolving reasonable doubt in the appellant's favor, the \n",
      "evidence establishes that the Veteran's Crohn's disease was \n",
      "etiologically related to active service.\n",
      "true: EvidenceBasedFinding; predicted: EvidenceBasedReasoning\n",
      "\n",
      "There is no \n",
      "indication that any notice deficiency reasonably affects the \n",
      "outcome of this case.\n",
      "true: EvidenceBasedFinding; predicted: EvidenceBasedReasoning\n",
      "\n",
      "The appellant has not made the Board aware of any \n",
      "additional evidence that needs to be obtained prior to \n",
      "appellate review.\n",
      "true: Evidence; predicted: LegalRule\n",
      "\n",
      "The Board notes that a new revision to the law regarding \n",
      "accrued benefits claims, enacted by Congress and signed by \n",
      "the President as the Veterans Benefits Act of 2003, Pub. L. \n",
      "No. 108-183, § 104, on December 16, 2003, amends 38 U.S.C.A. \n",
      "§ 5121(a) by repealing the two-year limit on accrued benefits \n",
      "so that a veteran's survivor may receive the full amount of \n",
      "award for accrued benefits; however this revision only \n",
      "relates to cases where the Veteran's death occurred on or \n",
      "after the date of enactment, December 16, 2003.\n",
      "true: LegalPolicy; predicted: ConclusionOfLaw\n",
      "\n",
      "It does not \n",
      "affect cases involving deaths prior to that time, such as \n",
      "this case.\n",
      "true: EvidenceBasedFinding; predicted: Procedure\n",
      "\n",
      "The phrase \"not to exceed two \n",
      "years\" does not limit recovery of only those benefits that \n",
      "accrued in the two years immediately preceding a veteran's \n",
      "death; rather, 38 U.S.C.A. § 5121(a) (as in effect prior to \n",
      "December 16, 2003) limited the total accrued benefit payments \n",
      "that a survivor may receive to those accrued benefits due and \n",
      "unpaid for up to a two-year period.\n",
      "true: LegalRule; predicted: Evidence\n",
      "\n",
      "The Federal Circuit held \n",
      "that section 5121(a) only limits a survivor's recovery of \n",
      "accrued benefits to a maximum two-year period of benefits \n",
      "accrued at any time during the veteran's life.\n",
      "true: LegalRule; predicted: Evidence\n",
      "\n",
      "The Board notes the Veteran's service medical records are \n",
      "negative for any diagnosis or treatment for Crohn's disease.\n",
      "true: Evidence; predicted: EvidenceBasedReasoning\n",
      "\n",
      "A medical report from April 1962 referred to a history of \n",
      "\"urethral stones\" and a current diagnosis of \"pyelitis\" \n",
      "based on abnormal urine findings.\n",
      "true: Evidence; predicted: Procedure\n",
      "\n",
      "Two old rectal fistula tracts were seen.\n",
      "true: Evidence; predicted: Procedure\n",
      "\n",
      "A rectal examination \n",
      "revealed no abnormal findings.  \n",
      "true: Evidence; predicted: Procedure\n",
      "\n",
      "At that time, \n",
      "Crohn's disease was suspected.\n",
      "true: Evidence; predicted: Procedure\n",
      "\n",
      "In August, a biopsy revealed mild microscopic \n",
      "colitis.\n",
      "true: Evidence; predicted: Procedure\n",
      "\n",
      "A diagnosis of Crohn's disease, in remission, was \n",
      "provided.\n",
      "true: Evidence; predicted: Procedure\n",
      "\n",
      "Notably, the Veteran was \n",
      "hospitalized in January 1959, while on active duty.\n",
      "true: EvidenceBasedReasoning; predicted: Evidence\n",
      "\n",
      "In early 1960's private medical records, \n",
      "the Veteran gave a history of severe right-sided pain since \n",
      "1957; a similar history regarding the onset of chronic \n",
      "stomach pain in 1957 was given in an April 1968 private \n",
      "medical record.\n",
      "true: EvidenceBasedReasoning; predicted: Evidence\n",
      "\n",
      "The Veteran was also treated for recurrent \n",
      "rectal abscesses and fistulas in the perineal area in the \n",
      "early 1960's, and in a 1962 service record, the Veteran \n",
      "reported having had such since he had been in the Navy.\n",
      "true: EvidenceBasedReasoning; predicted: Evidence\n",
      "\n",
      "A \n",
      "handwritten note which appears to have been prepared around \n",
      "January 1963 also shows, in pertinent part, a history of \n",
      "treatment while on active duty for possible colitis.\n",
      "true: EvidenceBasedReasoning; predicted: Procedure\n",
      "\n",
      "Service \n",
      "treatment records show that the Veteran was hospitalized at \n",
      "the Naval Hospital in Annapolis for approximately three weeks \n",
      "in January 1959.\n",
      "true: EvidenceBasedReasoning; predicted: Evidence\n",
      "\n",
      "However, hospital records were not \n",
      "available.\n",
      "true: EvidenceBasedReasoning; predicted: Procedure\n",
      "\n",
      "Lay statements from the Veteran show that his \n",
      "hospitalization was for pain and other gastrointestinal \n",
      "symptoms.\n",
      "true: EvidenceBasedReasoning; predicted: Evidence\n",
      "\n",
      "Post-service treatment reports \n",
      "reflect a continuation of such symptoms, and an eventual \n",
      "diagnosis of Crohn's disease.\n",
      "true: EvidenceBasedReasoning; predicted: Procedure\n",
      "\n",
      "DATE\n",
      "true: Header; predicted: Procedure\n",
      "\n",
      "I.  Duties to Notify and Assist\n",
      "true: Header; predicted: Procedure\n",
      "\n",
      "JACQUELINE E. MONROE\n",
      "true: Procedure; predicted: Header\n",
      "\n",
      "Service connection for traumatic arthritis of the left knee, status postoperative ACL reconstruction, is denied.\n",
      "true: ConclusionOfLaw; predicted: EvidenceBasedFinding\n",
      "\n",
      "Entitlement to service connection for traumatic arthritis of the left knee, status postoperative anterior cruciate ligament (ACL) reconstruction.\n",
      "true: Procedure; predicted: Evidence\n",
      "\n",
      "He also had active duty for training (ACDUTRA) in the Naval Air Reserve, including a period of ACDUTRA from October 5, 1989 to October 16, 1989.\n",
      "true: Evidence; predicted: EvidenceBasedReasoning\n",
      "\n",
      "In September 2005, the Veteran filed a notice of disagreement (NOD).\n",
      "true: Procedure; predicted: Evidence\n",
      "\n",
      "In September 2006, the Veteran testified during a hearing before a Decision Review Officer (DRO) at the RO; a transcript of that hearing is of record.  \n",
      "true: Procedure; predicted: EvidenceBasedFinding\n",
      "\n",
      "All notification and development actions needed to fairly adjudicate the claim on appeal have been accomplished.\n",
      "true: EvidenceBasedFinding; predicted: Evidence\n",
      "\n",
      "Although the Veteran injured his left knee during service, there was no evidence of a left knee disability for several years after service and the only medical opinion on the question of whether there exists a medical relationship between current left knee disability and the Veteran's military service weighs against the claim.\n",
      "true: EvidenceBasedFinding; predicted: Evidence\n",
      "\n",
      "The criteria for service connection for traumatic arthritis of the left knee, status postoperative ACL reconstruction, are not met.\n",
      "true: EvidenceBasedFinding; predicted: Evidence\n",
      "\n",
      "Notice requirements under the VCAA essentially require VA to notify a claimant of any evidence that is necessary to substantiate the claim(s), as well as the evidence that VA will attempt to obtain and which evidence he or she is responsible for providing.\n",
      "true: LegalRule; predicted: ConclusionOfLaw\n",
      "\n",
      "The Board notes that, effective May 30, 2008, 38 C.F.R. § 3.159 has been revised, in part.\n",
      "true: LegalPolicy; predicted: EvidenceBasedReasoning\n",
      "\n",
      "After issuance of the March 2006 letter, and opportunity for the Veteran to respond, the November 2006 SSOC reflects readjudication of the claim.\n",
      "true: EvidenceBasedReasoning; predicted: Evidence\n",
      "\n",
      "Hence, the Veteran is not shown to be prejudiced by the timing of this notice.\n",
      "true: EvidenceBasedReasoning; predicted: LegalRule\n",
      "\n",
      "Also of record and considered in connection with the appeal is the transcript of the September 2006 DRO hearing, along with various written statements provided by the Veteran, and by his representative, on his behalf.\n",
      "true: EvidenceBasedReasoning; predicted: EvidenceBasedFinding\n",
      "\n",
      "There is no additional notice that should be provided, nor is there any indication that there is additional existing evidence to obtain or development required to create any additional evidence to be considered in connection with the claim.\n",
      "true: EvidenceBasedReasoning; predicted: EvidenceBasedFinding\n",
      "\n",
      "Here, there is evidence indicating that the Veteran injured his left knee during ACDUTRA.\n",
      "true: EvidenceBasedReasoning; predicted: EvidenceBasedFinding\n",
      "\n",
      "Post-service, the first documented medical evidence of a left knee disability was in 1997.\n",
      "true: Evidence; predicted: EvidenceBasedReasoning\n",
      "\n",
      "As regards the Veteran's assertions of a continuity of left knee symptomatology since service, the Board points out that a layperson is competent to report on matters observed or within his or her personal knowledge.\n",
      "true: EvidenceBasedReasoning; predicted: LegalRule\n",
      "\n",
      "The Board also notes that, notwithstanding the Veteran's assertions, the post-service evidence reflects no documented indication of a left knee disability for over 6 years after active military service, when the Veteran slipped and injured his left knee.\n",
      "true: EvidenceBasedReasoning; predicted: ConclusionOfLaw\n",
      "\n",
      "Moreover, the only medical opinion to address the etiology of the current left knee disability-that of the October 2010 VA examiner-is adverse to the claim.\n",
      "true: EvidenceBasedReasoning; predicted: Evidence\n",
      "\n",
      "In particular, private treatment records evaluating the Veteran's subsequent left knee injuries in 1997 and 2002 reflect that he did not suffer any residual problems from his in-service left knee injury and surgery.\n",
      "true: EvidenceBasedReasoning; predicted: Evidence\n",
      "\n",
      "The examiner opined that it was least likely that the Veteran's current left knee disability was related to his in-service left knee injury.\n",
      "true: EvidenceBasedReasoning; predicted: Evidence\n",
      "\n",
      "The examiner also considered the Veteran's assertions regarding his in-service left knee injury and subsequent symptomatology.\n",
      "true: EvidenceBasedReasoning; predicted: Evidence\n",
      "\n",
      "Furthermore, to whatever extent assertions of the Veteran and/or his representative are offered in an attempt to establish that there exists a medical nexus between the Veteran's current left knee disability and service, such attempt must fail.\n",
      "true: EvidenceBasedFinding; predicted: Evidence\n",
      "\n",
      "Hence, the lay assertions in this regard have no probative value.\n",
      "true: EvidenceBasedReasoning; predicted: Evidence\n",
      "\n",
      "In reaching this conclusion, the Board has considered the applicability of the benefit-of-the-doubt doctrine.\n",
      "true: ConclusionOfLaw; predicted: EvidenceBasedReasoning\n",
      "\n",
      "However, as the preponderance of the evidence is against the claim, that doctrine is not applicable.\n",
      "true: ConclusionOfLaw; predicted: EvidenceBasedFinding\n",
      "\n",
      "Service Connection\n",
      "true: Header; predicted: Procedure\n",
      "\n",
      "DATE\n",
      "true: Header; predicted: Procedure\n",
      "\n",
      "In essence, a veteran does not file a claim to receive benefits for a particular psychiatric diagnosis that is named on a claims form, but instead makes a general claim for compensation for the difficulties posed by the veteran's mental condition.\n",
      "true: LegalPolicy; predicted: LegalRule\n",
      "\n",
      "In light of above, notwithstanding Clemons, the Board will continue to address the Veteran's PTSD claim separately from his other claim for an acquired psychiatric disorder.\n",
      "true: Procedure; predicted: EvidenceBasedReasoning\n",
      "\n",
      "The evidence does not show that the Veteran currently has PTSD or that such disability existed at any time during the course of the appeal. \n",
      "true: EvidenceBasedFinding; predicted: EvidenceBasedReasoning\n",
      "\n",
      "PTSD was not incurred in or aggravated by the Veteran's active military service.\n",
      "true: ConclusionOfLaw; predicted: Evidence\n",
      "\n",
      "The Board has given consideration to the VCAA, which includes an enhanced duty on the part of VA to notify a veteran of the information and evidence necessary to substantiate claims for VA benefits.\n",
      "true: LegalPolicy; predicted: ConclusionOfLaw\n",
      "\n",
      "Determinations concerning prejudicial error and harmless error should be made on a case-by-case basis.\n",
      "true: LegalPolicy; predicted: Procedure\n",
      "\n",
      "Instead, in March 2006, pursuant to the Court's holding in Dingess, the Veteran was provided with notice regarding the degree of disability and effective date.\n",
      "true: EvidenceBasedReasoning; predicted: Evidence\n",
      "\n",
      "All identified and available post-service treatment records have been secured, which include VA treatment records.\n",
      "true: Evidence; predicted: Procedure\n",
      "\n",
      "Neither the Veteran nor his representative has contended otherwise.\n",
      "true: EvidenceBasedReasoning; predicted: Evidence\n",
      "\n",
      "The case law is well-settled on this point.\n",
      "true: LegalPolicy; predicted: EvidenceBasedFinding\n",
      "\n",
      "For the showing of chronic disease in service, a combination of manifestations must exist sufficient to identify the disease entity and sufficient observation to establish chronicity at the time, as distinguished from merely isolated findings or a diagnosis including the word \"chronic.\"\n",
      "true: LegalRule; predicted: Evidence\n",
      "\n",
      "The regulations pertaining to PTSD were recently amended, and 38 C.F.R. §3.304(f)(3) no longer requires the verification of an in-service stressor if the Veteran was in a location involving \"fear of hostile military or terrorist activity.\"\n",
      "true: LegalPolicy; predicted: Evidence\n",
      "\n",
      "Such a location can be evidenced by awards such as the Iraq Campaign Medal or the Vietnam Service Medal.\n",
      "true: LegalPolicy; predicted: LegalRule\n",
      "\n",
      "The Court has stated that a veteran need only demonstrate that there is an \"approximate balance of positive and negative evidence\" in order to prevail on a claim for benefits.\n",
      "true: LegalRule; predicted: EvidenceBasedReasoning\n",
      "\n",
      "In the instant case, as noted above, service connection for PTSD requires the presence of a currently-diagnosed disability.\n",
      "true: EvidenceBasedReasoning; predicted: Evidence\n",
      "\n",
      "Rather, the report of the Veteran's February 2006 VA examination stated that Veteran did not meet the criteria for PTSD.\n",
      "true: EvidenceBasedReasoning; predicted: Evidence\n",
      "\n",
      "The evidence of record is unclear even as to whether the Veteran himself believes that he has PTSD.\n",
      "true: EvidenceBasedReasoning; predicted: LegalRule\n",
      "\n",
      "As the record contains no competent diagnosis of PTSD in the Veteran, the Board's consideration of entitlement to service connection for PTSD fails on the this basis alone.\n",
      "true: EvidenceBasedFinding; predicted: Evidence\n",
      "\n",
      "DATE\n",
      "true: Header; predicted: Procedure\n",
      "\n",
      "In giving the Veteran the benefit of the doubt, schizophrenia was incurred in active service.\n",
      "true: ConclusionOfLaw; predicted: Evidence\n",
      "\n",
      "Duties to Notify and Assist\n",
      "true: Header; predicted: Procedure\n",
      "\n",
      "If there is no showing of a resulting chronic condition during service, then a showing of continuity of symptomatology after service is required to support a finding of chronicity.\n",
      "true: LegalRule; predicted: ConclusionOfLaw\n",
      "\n",
      "Davidson v. Shinseki, 581 F.3d 1313 (Fed. Cir. Sept. 14, 2009); cf. Gutierrez  v. Principi, 19 Vet. App. 1, 5 (2004) (citing Hickson v. West, 12 Vet. App. 247, 253 (1999)).\n",
      "true: Citation; predicted: Header\n",
      "\n",
      "In many cases, medical evidence is required to meet the requirement that the evidence be \"competent.\"\n",
      "true: LegalPolicy; predicted: LegalRule\n",
      "\n",
      "The medical evidence of record confirms that the Veteran has a current diagnosis of schizophrenia.\n",
      "true: EvidenceBasedFinding; predicted: EvidenceBasedReasoning\n",
      "\n",
      " The examiner noted that he specifically asked the Veteran if his thought symptoms became evident prior to May 1994, which is one year after discharge.\n",
      "true: Evidence; predicted: LegalRule\n",
      "\n",
      "As noted above, the VA treatment records and SSA records note that the Veteran's symptoms began in 1994 and that the was in fact hospitalized in 1994 in Tuskegee VA Medical Center.\n",
      "true: EvidenceBasedReasoning; predicted: Evidence\n",
      "\n",
      "The Veteran and his mother are competent, even as laypersons, to attest to factual matters of which they have firsthand knowledge, such as experiencing and witnessing bizarre behavior consistent with a psychosis within one year of service.\n",
      "true: EvidenceBasedReasoning; predicted: Evidence\n",
      "\n",
      "DATE\n",
      "true: Header; predicted: Procedure\n",
      "\n",
      "In October 2015, the Veteran testified at a videoconference hearing before the undersigned Veterans Law Judge (VLJ).\n",
      "true: Procedure; predicted: Evidence\n",
      "\n",
      "A hearing transcript has been associated with the record.\n",
      "true: Procedure; predicted: Evidence\n",
      "\n",
      "This appeal was processed using the Virtual VA and Virtual Benefits Management System (VBMS) paperless claims processing systems.\n",
      "true: Procedure; predicted: Evidence\n",
      "\n",
      "This appeal has been advanced on the Board's docket pursuant to 38 C.F.R. § 20.900(c) (2015).\n",
      "true: Procedure; predicted: Evidence\n",
      "\n",
      "In the instant case, neither the Veteran nor his representative has identified any deficiency in notice which would compromise a fair adjudication of the claim.\n",
      "true: EvidenceBasedReasoning; predicted: Evidence\n",
      "\n",
      "In this regard, the Board observes that, although the Supreme Court reversed the presumptive prejudice framework set forth in Sanders, it did not find fault with the analysis for determining whether a VCAA notice error affected the essential fairness of the adjudication.\n",
      "true: LegalPolicy; predicted: ConclusionOfLaw\n",
      "\n",
      "Further, there was no evidence of arthritis within a year post-service.\n",
      "true: Evidence; predicted: Procedure\n",
      "\n",
      "In this regard, the Veteran testified that he injured his left knee in boot camp, but that he did not seek treatment during service because being placed in \"sick bay\" meant that he would have been \"considered not a good person\" and that \"[t]here was something wrong with you.\"\n",
      "true: Citation; predicted: Evidence\n",
      "\n",
      "For the foregoing reasons, the Board finds that VA's failure to provide the Veteran with adequate VCAA notice with respect to the elements of service connection, and VA's and his respective responsibilities in obtaining evidence in support of his claim did not affect the essential fairness of the adjudication of his claim and, therefore, such error is harmless.\n",
      "true: EvidenceBasedFinding; predicted: ConclusionOfLaw\n",
      "\n",
      "In this regard, as the Board concludes herein that the preponderance of the evidence is against the Veteran's claim, any questions as to the appropriate disability rating or effective date to be assigned are rendered moot.\n",
      "true: EvidenceBasedFinding; predicted: LegalRule\n",
      "\n",
      "Next, VA has a duty to assist the Veteran in the development of the claim.\n",
      "true: LegalRule; predicted: EvidenceBasedFinding\n",
      "\n",
      "This duty includes assisting him in the procurement of service treatment records and pertinent treatment records and providing an examination when necessary.\n",
      "true: LegalRule; predicted: Evidence\n",
      "\n",
      "Moreover, the examiner offered clear conclusions with supporting data as well as reasoned medical explanations connecting the two.\n",
      "true: EvidenceBasedReasoning; predicted: Evidence\n",
      "\n",
      "The Board directed the AOJ to obtain updated treatment record, afford the Veteran a VA examination as to the claimed left knee disability, and readjudicated the Veteran's claim in a supplemental statement of the case.\n",
      "true: Evidence; predicted: ConclusionOfLaw\n",
      "\n",
      "Therefore, the Veteran will not be prejudiced as a result of the Board proceeding to the merits of his claims.\n",
      "true: EvidenceBasedFinding; predicted: LegalRule\n",
      "\n",
      "The requirement of a current disability is satisfied when the Veteran has a disability at the time he files his service connection claim or during the pendency of that claim, even if the disability resolves prior to adjudication of the claim.\n",
      "true: LegalRule; predicted: EvidenceBasedReasoning\n",
      "\n",
      "Post-service treatment records reveal complaints of bilateral knee pain and an October 2007 diagnosis of knee arthralgia.\n",
      "true: Evidence; predicted: Procedure\n",
      "\n",
      "The Board has first considered whether service connection is warranted on a presumptive basis.\n",
      "true: EvidenceBasedReasoning; predicted: EvidenceBasedFinding\n",
      "\n",
      "As such, presumptive service connection is not warranted for a left knee disability.\n",
      "true: EvidenceBasedFinding; predicted: ConclusionOfLaw\n",
      "\n",
      "In this regard, the Board places great probative weight on the February 2016 DBQ examiner's opinion that the Veteran's degenerative arthritis of the left knee is less likely than not related to service, but rather was the result of aging.\n",
      "true: EvidenceBasedReasoning; predicted: LegalRule\n",
      "\n",
      "This opinion had clear conclusions and supporting data, as well as a reasoned medical explanation connection the two.\n",
      "true: EvidenceBasedReasoning; predicted: Evidence\n",
      "\n",
      "No contrary medical opinion is of record.\n",
      "true: EvidenceBasedReasoning; predicted: ConclusionOfLaw\n",
      "\n",
      "Relevant to direct service connection, while the evidence of record indicates that the Veteran is diagnosed with degenerative arthritis of the left knee, the probative evidence of record demonstrates that such is not related to his service.\n",
      "true: EvidenceBasedFinding; predicted: LegalRule\n",
      "\n",
      "The Board notes that the Veteran, as well as his two brothers, has contended that his current left knee disability is related to his service, to specifically include the in-service left knee injury during a drill.\n",
      "true: Evidence; predicted: LegalRule\n",
      "\n",
      "In this regard, knowledge of degeneration of bone in the knee as a result of marching during a drill involves a medical subject concerning an internal physical process extending beyond an immediately observable cause-and-effect relationship.\n",
      "true: EvidenceBasedReasoning; predicted: Evidence\n",
      "\n",
      "Additionally, the opinions of the VA examiner who has the necessary training and medical knowledge to competently speak to the issues at hand are highly probative.\n",
      "true: EvidenceBasedReasoning; predicted: Evidence\n",
      "\n",
      "Moreover, the Veteran and his brothers have offered only conclusory statements regarding the relationship between his purported in-service knee injury and/or symptoms and his current degenerative arthritis of the left knee.\n",
      "true: EvidenceBasedReasoning; predicted: Evidence\n",
      "\n",
      "In contrast, the February 2016 DBQ examiner took into consideration all the relevant facts in providing an opinion, to include the type of the Veteran's purported in-service injury and/or symptoms and the current nature of his left knee disability.\n",
      "true: EvidenceBasedReasoning; predicted: Evidence\n",
      "\n",
      "The Board notes that the Veteran testified during his October 2015 hearing that he experienced left knee pain since his service.\n",
      "true: Evidence; predicted: EvidenceBasedReasoning\n",
      "\n",
      "In weighing credibility, VA may consider interest, bias, inconsistent statements, bad character, internal inconsistency, facial plausibility, self-interest, consistency with other evidence of record, malingering, desire for monetary gain, and demeanor of the witness.\n",
      "true: LegalRule; predicted: EvidenceBasedReasoning\n",
      "\n",
      "Caluza, supra.\n",
      "true: Citation; predicted: Procedure\n",
      "\n",
      "WAYNE M. BRAEUER\n",
      "true: Procedure; predicted: Header\n",
      "\n",
      "Service connection for a left knee disability is denied.\n",
      "true: Procedure; predicted: ConclusionOfLaw\n",
      "\n",
      "Furthermore, while the Veteran testified during the October 2015 videoconference hearing that he favored the right knee, the February 2016 DBQ report reflects otherwise, noting that the Veteran reported favoring his left knee.\n",
      "true: EvidenceBasedReasoning; predicted: Evidence\n",
      "\n",
      "In this regard, the Veteran did not report a history of left knee injury or other symptoms related to the knee, but reported detailed injury to his shoulder in his VA treatment records.\n",
      "true: EvidenceBasedReasoning; predicted: Evidence\n",
      "\n",
      "However, the preponderance of the evidence is against the Veteran's claim of entitlement to service connection for a left knee disability.\n",
      "true: EvidenceBasedFinding; predicted: LegalRule\n",
      "\n"
     ]
    }
   ],
   "source": [
    "false_predictions(sentence_data_featurized)"
   ]
  }
 ],
 "metadata": {
  "kernelspec": {
   "display_name": "Python 3",
   "language": "python",
   "name": "python3"
  },
  "language_info": {
   "codemirror_mode": {
    "name": "ipython",
    "version": 3
   },
   "file_extension": ".py",
   "mimetype": "text/x-python",
   "name": "python",
   "nbconvert_exporter": "python",
   "pygments_lexer": "ipython3",
   "version": "3.6.2"
  }
 },
 "nbformat": 4,
 "nbformat_minor": 2
}
